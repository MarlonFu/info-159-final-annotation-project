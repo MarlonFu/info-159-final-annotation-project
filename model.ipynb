{
 "cells": [
  {
   "cell_type": "markdown",
   "metadata": {
    "cell_id": "c762946f2994432ab23614c7aaff0d7e",
    "deepnote_cell_type": "text-cell-h1",
    "formattedRanges": []
   },
   "source": [
    "# Ordinal Regression for Identifying Severity of Hyperbolic Marketing in YouTube Video Titles"
   ]
  },
  {
   "cell_type": "markdown",
   "metadata": {},
   "source": [
    "Authors: Marlon Fu, Wendy Kim, Sean Wei"
   ]
  },
  {
   "cell_type": "markdown",
   "metadata": {},
   "source": [
    "This notebook presents an overview of classifying hyperbolic marketing in YouTube video titles, more commonly known as \"clickbait\". This project was originally designed as a final project for [Info 159: Natural Language Project](https://people.ischool.berkeley.edu/~dbamman/nlp23.html) at UC Berkeley, taught by [Professor David Bamman](https://people.ischool.berkeley.edu/~dbamman/).\n",
    "\n",
    "Clickbait titles are known to utilize sensational language to attract users’ attention, but often include exaggerated and misleading claims. Creating a clickbait classifier through our annotation project would enable two things: 1. false claims or claims blown out of proportion can be detected to hide videos from young or vulnerable viewers on Youtube 2. Labeling clickbait may help in the analysis of video click rate and performance by creators. For our project, we will be considering a few approaches."
   ]
  },
  {
   "cell_type": "markdown",
   "metadata": {},
   "source": [
    "## Table of Contents\n",
    "* [The Data](#the-data)\n",
    "* [Data Pre-Processing](#data-pre-processing)\n",
    "* [Feature Selection](#feature-selection)\n",
    "* [Ordinal Regression](#ordinal-regression)\n",
    "* [Evaluating Model Performance](#evaluating-model-performance)"
   ]
  },
  {
   "cell_type": "code",
   "execution_count": 1,
   "metadata": {
    "cell_id": "23f8866891074aacb1a08226138dbfd1",
    "deepnote_cell_type": "code",
    "deepnote_to_be_reexecuted": false,
    "execution_millis": 6,
    "execution_start": 1699045850917,
    "source_hash": "50bb1dbf",
    "tags": []
   },
   "outputs": [
    {
     "name": "stdout",
     "output_type": "stream",
     "text": [
      "<frozen runpy>:128: RuntimeWarning: 'nltk.downloader' found in sys.modules after import of package 'nltk', but prior to execution of 'nltk.downloader'; this may result in unpredictable behaviour\n",
      "[nltk_data] Downloading package punkt to /Users/MarlonFu/nltk_data...\n",
      "[nltk_data]   Package punkt is already up-to-date!\n"
     ]
    }
   ],
   "source": [
    "import pandas as pd\n",
    "from scipy import sparse\n",
    "from sklearn import linear_model\n",
    "from collections import Counter\n",
    "import numpy as np\n",
    "import operator\n",
    "import nltk\n",
    "import math\n",
    "from scipy.stats import norm\n",
    "\n",
    "import OrdinalRegression\n",
    "from sklearn.model_selection import train_test_split\n",
    "\n",
    "import matplotlib.pyplot as plt\n",
    "%matplotlib inline"
   ]
  },
  {
   "cell_type": "markdown",
   "metadata": {
    "cell_id": "f21c81ff70c0486a877b8026a6e7ca6e",
    "deepnote_cell_type": "text-cell-h2",
    "formattedRanges": []
   },
   "source": [
    "## The Data <a class=\"anchor\" id=\"the-data\"></a>"
   ]
  },
  {
   "cell_type": "markdown",
   "metadata": {},
   "source": [
    "This dataset is taken from the [\"YouTube Statistics\" dataset published by Advay Patil on Kaggle](https://www.kaggle.com/datasets/advaypatil/youtube-statistics?select=videos-stats.csv). The data is neither private nor under copyright, and can be freely distributed with others. The original file found on Kaggle includes various statistics in addition to the title for each YouTube video within the dataset. Some features include the video ID, the date of publications, and the numbers of views, comments, and likes the video received by users. However, for the purposes of this project, only the titles of each video will be analyzed, as these serve as the documents for which we can identify clickbait.\n",
    "\n",
    "In the dataset of YouTube video titles, the categories we are considering to annotate are related to clickbait.  One approach of classification would be the implementation of the binary labels of “clickbait” or “not clickbait”. While this would enable us to be more objective in our decisions, there are less guidelines to define and comprehensively follow. For a second approach, we can assign a value to the YouTube video titles on an ordinal scale of 1-5 (5 being the most significantly clickbait). This method would incorporate further subjective decision-making, as humans consider how clickbait a video title is or not. Clickbait becomes more of a relative characteristic in this second method, as we can place YouTube video titles into tiers somewhat. Under both methods, the labels are not necessarily deterministic, as deciding that a video is clickbait requires human context. \n",
    "\n",
    "The methodology for annotating this dataset with labels is as follows:\n",
    "1. Data is split into two batches: one for exploring the data and another to be annotated with labels. \n",
    "2. Based on the exploration set, the project group will collectively agree on a set of annotation guidelines, outlined in `annotation_guidelines.pdf`\n",
    "2. Using `annotation_guidelines.pdf`, two group members will individually annotate the remaining data such that each row receives two labels.\n",
    "3. The third group member will adjudicate each annotation and decide on a final label to give each row. \n",
    "\n",
    "This process is documented in `annotation_results.xlsx`\n",
    "\n"
   ]
  },
  {
   "cell_type": "markdown",
   "metadata": {
    "tags": []
   },
   "source": [
    "## Data Pre-Processing <a class=\"anchor\" id=\"data-pre-processing\"></a>"
   ]
  },
  {
   "cell_type": "code",
   "execution_count": 2,
   "metadata": {
    "cell_id": "74986529eb2c40158b08dc87bd7b1b86",
    "deepnote_cell_type": "code",
    "deepnote_to_be_reexecuted": false,
    "execution_millis": 83,
    "execution_start": 1682708216860,
    "source_hash": "794fcaea"
   },
   "outputs": [
    {
     "name": "stderr",
     "output_type": "stream",
     "text": [
      "[nltk_data] Downloading package stopwords to\n",
      "[nltk_data]     /Users/MarlonFu/nltk_data...\n",
      "[nltk_data]   Package stopwords is already up-to-date!\n",
      "[nltk_data] Downloading package wordnet to\n",
      "[nltk_data]     /Users/MarlonFu/nltk_data...\n",
      "[nltk_data]   Package wordnet is already up-to-date!\n",
      "[nltk_data] Downloading package omw-1.4 to\n",
      "[nltk_data]     /Users/MarlonFu/nltk_data...\n",
      "[nltk_data]   Package omw-1.4 is already up-to-date!\n"
     ]
    },
    {
     "data": {
      "text/plain": [
       "True"
      ]
     },
     "execution_count": 2,
     "metadata": {},
     "output_type": "execute_result"
    }
   ],
   "source": [
    "nltk.download(\"stopwords\")\n",
    "nltk.download(\"wordnet\")\n",
    "nltk.download('omw-1.4')"
   ]
  },
  {
   "cell_type": "code",
   "execution_count": 4,
   "metadata": {
    "cell_id": "c8ae5ce8b9284bed8e5b8b57d6b08a32",
    "deepnote_cell_type": "code",
    "deepnote_table_loading": false,
    "deepnote_table_state": {
     "filters": [],
     "pageIndex": 2,
     "pageSize": 10,
     "sortBy": []
    },
    "deepnote_to_be_reexecuted": false,
    "execution_millis": 20,
    "execution_start": 1682708216962,
    "source_hash": "e07583de"
   },
   "outputs": [],
   "source": [
    "from nltk.corpus import stopwords\n",
    "from nltk.stem import PorterStemmer\n",
    "from nltk.stem import WordNetLemmatizer\n",
    "\n",
    "def remove_stopwords(word_list):\n",
    "    return [word for word in word_list if word not in stopwords.words('english')]\n",
    "\n",
    "def stem_words(word_list):\n",
    "    ps = PorterStemmer()\n",
    "    return [ps.stem(word) for word in word_list]\n",
    "\n",
    "def lemmatize_words(word_list):\n",
    "    wnl = WordNetLemmatizer()\n",
    "    return [wnl.lemmatize(word) for word in word_list]\n",
    "\n",
    "def repeated_words(text):\n",
    "    feats = {}\n",
    "    words = nltk.word_tokenize(text)\n",
    "    words = remove_stopwords(words)\n",
    "    words = lemmatize_words(words)\n",
    "\n",
    "    word_counter = {}\n",
    "    for word in words:\n",
    "        word = word.lower()\n",
    "        if word not in word_counter:\n",
    "            word_counter[word] = 1\n",
    "        else:\n",
    "            word_counter[word] += 1\n",
    "    \n",
    "    word_counter = sorted(word_counter.items(), key=lambda x:x[1], reverse=True)\n",
    "\n",
    "    feats['Count of highest repeated word'] = word_counter[0][1]\n",
    "    return feats"
   ]
  },
  {
   "cell_type": "markdown",
   "metadata": {
    "tags": []
   },
   "source": [
    "## Feature Selection <a class=\"anchor\" id=\"feature-selection\"></a>"
   ]
  },
  {
   "cell_type": "code",
   "execution_count": 5,
   "metadata": {
    "tags": []
   },
   "outputs": [],
   "source": [
    "def binary_bow_featurize(text):\n",
    "    feats = {}\n",
    "    words = nltk.word_tokenize(text)\n",
    "\n",
    "    for word in words:\n",
    "        word=word.lower()\n",
    "        feats[word]=1\n",
    "            \n",
    "    return feats\n",
    "\n",
    "\n",
    "def bag_of_words(text):\n",
    "    feats = {}\n",
    "    words = nltk.word_tokenize(text)\n",
    "    for word in words:\n",
    "        word = word.lower()\n",
    "        if word in feats:\n",
    "            feats[word] += 1\n",
    "        else:\n",
    "            feats[word] = 1\n",
    "    return feats\n",
    "\n",
    "\n",
    "def repeated_punctuation(text):\n",
    "    \"\"\"sequences of exclamation points or question marks\"\"\"\n",
    "    feats = {}\n",
    "    words = nltk.word_tokenize(text)\n",
    "    for word in words:\n",
    "        if word == \"!!\" or word == \"!!!\":\n",
    "            if 'punctuation' in feats.keys():\n",
    "                feats['punctuation'] += 1\n",
    "            else:\n",
    "                feats['punctuation'] = 1\n",
    "    return feats\n",
    "\n",
    "\n",
    "def proportion_capital(text):\n",
    "    \"\"\"proportion of capital letters\"\"\"\n",
    "    feats = {}\n",
    "    feats['Prop'] = sum([i.isupper() for i in text]) / len(text)\n",
    "    return feats\n",
    "\n",
    "\n",
    "def prop_cap_category(text):\n",
    "    proportion =  sum([i.isupper() for i in text]) / len(text)\n",
    "    feats = {}\n",
    "    if proportion <= 0.9:\n",
    "        if 'low' in feats.keys():\n",
    "            feats['low'] += proportion\n",
    "        else:\n",
    "            feats['low'] = proportion\n",
    "    else:\n",
    "        if 'high' in feats.keys():\n",
    "            feats['high'] += proportion\n",
    "        else:\n",
    "            feats['high'] = proportion\n",
    "    return feats\n",
    "\n",
    "\n",
    "def personal(text):\n",
    "    \"\"\"use of personal language\"\"\"\n",
    "    feats = {}\n",
    "    words = nltk.word_tokenize(text)\n",
    "    for word in words:\n",
    "        word = word.lower()\n",
    "        if word == \"you\" or word == \"your\" or word == \"i\":\n",
    "            if 'personal' in feats.keys():\n",
    "                feats['personal'] += 1\n",
    "            else:\n",
    "                feats['personal'] = 1\n",
    "    return feats\n",
    "\n",
    "\n",
    "def prop_cap(text):\n",
    "    return sum([i.isupper() for i in text]) / len(text)\n",
    "\n",
    "\n",
    "def prop_digits(text):\n",
    "    \"\"\"Proportion of characters that are numerical\"\"\"\n",
    "    feats = {}\n",
    "    feats['prop_digits'] = sum([i.isdigit() for i in text]) / len(text)\n",
    "    return feats\n",
    "\n",
    "\n",
    "def superlatives(text):\n",
    "    \"\"\"use of superlatives\"\"\"\n",
    "    feats = {}\n",
    "    words = nltk.word_tokenize(text)\n",
    "    for word in words:\n",
    "        word = word.lower()\n",
    "        if word == \"most\" or word == \"best\" or word == \"worst\" or word == \"never\":\n",
    "            if 'superlative' in feats.keys():\n",
    "                feats['superlative'] += 1\n",
    "            else:\n",
    "                feats['superlative'] = 1\n",
    "    return feats\n",
    "\n",
    "\n",
    "def characters(text):\n",
    "    feats = {}\n",
    "    words = nltk.word_tokenize(text)\n",
    "    for word in words:\n",
    "        if word in [ '&', '#', ':', '~', '@', '&#', ';']:\n",
    "            if word not in feats:\n",
    "                feats[word] = 1\n",
    "\n",
    "    return feats\n",
    "\n",
    "\n",
    "def official_music_video(text):\n",
    "    feats = {}\n",
    "    words = nltk.word_tokenize(text)\n",
    "    for word in words:\n",
    "        word = word.lower()\n",
    "        if word == \"official\" or word == 'music' or word == 'trailer':\n",
    "            feats['official'] = 0\n",
    "            return feats\n",
    "    feats['official'] = 1\n",
    "    return feats\n",
    "\n",
    "\n",
    "def mentions_money(text):\n",
    "    feats = {}\n",
    "    if '$' in text:\n",
    "        feats['mentions_money'] = 1\n",
    "    else:\n",
    "        feats['mentions_money'] = 0\n",
    "    \n",
    "\n",
    "    words = nltk.word_tokenize(text)\n",
    "    for word in words:\n",
    "        word = word.lower()\n",
    "        if word == \"dollar\" or word == 'dollars':\n",
    "            feats['mentions_money'] = 1\n",
    "\n",
    "    return feats\n",
    "\n",
    "\n",
    "def mentions_timerange(text):\n",
    "    feats = {'time' : 0}\n",
    "    words = nltk.word_tokenize(text)\n",
    "    for word in words:\n",
    "        word = word.lower()\n",
    "        if word == \"hours\" or word == \"weeks\" or word == 'months' or word == \"hour\" or word == \"week\" or word ==\"month\" or word == 'day' or word == 'days':\n",
    "            feats['time'] = 1\n",
    "    return feats"
   ]
  },
  {
   "cell_type": "markdown",
   "metadata": {
    "tags": []
   },
   "source": [
    "## Ordinal Regression <a class=\"anchor\" id=\"ordinal-regression\"></a>"
   ]
  },
  {
   "cell_type": "code",
   "execution_count": 6,
   "metadata": {
    "cell_id": "569121a8f5e74d0184a3a0727e268ecd",
    "deepnote_cell_type": "code",
    "deepnote_to_be_reexecuted": false,
    "execution_millis": 1177,
    "execution_start": 1682708215582,
    "source_hash": "212a9dd1"
   },
   "outputs": [],
   "source": [
    "import OrdinalRegression\n",
    "\n",
    "def load_ordinal_data(filename, ordering):\n",
    "    X = []\n",
    "    Y = []\n",
    "    orig_Y=[]\n",
    "    for ordinal in ordering:\n",
    "        Y.append([])\n",
    "        \n",
    "    with open(filename, encoding=\"utf-8\") as file:\n",
    "        for line in file:\n",
    "            #print(filename)\n",
    "            cols = line.split(\"\\t\")\n",
    "            idd = cols[0]\n",
    "            label = cols[2].lstrip().rstrip()\n",
    "            text = cols[3].replace('\\n', '')\n",
    "            X.append(text)\n",
    "\n",
    "            index=ordering.index(str(label))\n",
    "            for i in range(len(ordering)):\n",
    "                if index > i:\n",
    "                    Y[i].append(1)\n",
    "                else:\n",
    "                    Y[i].append(0)\n",
    "            orig_Y.append(label)\n",
    "                    \n",
    "    return X, Y, orig_Y"
   ]
  },
  {
   "cell_type": "code",
   "execution_count": 7,
   "metadata": {
    "cell_id": "258beefde5f74bd3999c17bfda879660",
    "deepnote_cell_type": "code",
    "deepnote_to_be_reexecuted": false,
    "execution_millis": 20,
    "execution_start": 1682708216963,
    "source_hash": "3b5f9838",
    "tags": []
   },
   "outputs": [],
   "source": [
    "trainingFile = \"splits/train.txt\"\n",
    "devFile = \"splits/dev.txt\"\n",
    "testFile = \"splits/test.txt\"\n",
    "    \n",
    "ordinal_values=[\"1\", \"2\", \"3\", \"4\", \"5\"]"
   ]
  },
  {
   "cell_type": "code",
   "execution_count": 8,
   "metadata": {
    "tags": []
   },
   "outputs": [],
   "source": [
    "def confidence_intervals(accuracy, n, significance_level):\n",
    "    critical_value=(1-significance_level)/2\n",
    "    z_alpha=-1*norm.ppf(critical_value)\n",
    "    se=math.sqrt((accuracy*(1-accuracy))/n)\n",
    "    return accuracy-(se*z_alpha), accuracy+(se*z_alpha)"
   ]
  },
  {
   "cell_type": "code",
   "execution_count": 9,
   "metadata": {
    "cell_id": "ab5033821f56492cb0d1ba5c0b3d0a48",
    "deepnote_cell_type": "code",
    "deepnote_to_be_reexecuted": false,
    "execution_millis": 743,
    "execution_start": 1682708216965,
    "source_hash": "d2a19e67",
    "tags": []
   },
   "outputs": [
    {
     "name": "stdout",
     "output_type": "stream",
     "text": [
      "Mean Absolute Error: 0.59\n",
      "Median Absolute Error: 0.0\n",
      "Test accuracy for best dev model: 0.550, 95% CIs: [0.452 0.648]\n",
      "\n"
     ]
    }
   ],
   "source": [
    "features = [prop_digits, \n",
    "            binary_bow_featurize, \n",
    "            repeated_punctuation, \n",
    "            proportion_capital, \n",
    "            personal, \n",
    "            superlatives, \n",
    "            prop_cap_category, \n",
    "            characters, \n",
    "            official_music_video, \n",
    "            mentions_money, \n",
    "            mentions_timerange,\n",
    "            ]\n",
    "\n",
    "\n",
    "def combiner_function(text):\n",
    "    all_feats={}\n",
    "    for feature in features:\n",
    "        all_feats.update(feature(text))\n",
    "    return all_feats\n",
    "\n",
    "\n",
    "from sklearn.metrics import confusion_matrix,  ConfusionMatrixDisplay\n",
    "\n",
    "def get_confusion_matrix(actual, predicted):\n",
    "    cm = confusion_matrix(actual, predicted)\n",
    "    disp = ConfusionMatrixDisplay(confusion_matrix=cm)\n",
    "    disp.plot()\n",
    "    plt.title(\"Figure 3: Confusion Matrix\");\n",
    "    plt.show()\n",
    "\n",
    "\n",
    "# testing features with combiner_function \n",
    "def run(trainingFile, devFile, testFile, ordinal_values):\n",
    "\n",
    "\n",
    "    trainX, trainY, orig_trainY=load_ordinal_data(trainingFile, ordinal_values)\n",
    "    devX, devY, orig_devY=load_ordinal_data(devFile, ordinal_values)\n",
    "    testX, testY, orig_testY=load_ordinal_data(testFile, ordinal_values)\n",
    "    \n",
    "    simple_classifier = OrdinalRegression.OrdinalClassifier(ordinal_values, combiner_function, trainX, trainY, devX, devY, testX, testY, orig_trainY, orig_devY, orig_testY)\n",
    "    simple_classifier.train()\n",
    "    \n",
    "    metrics = simple_classifier.test()\n",
    "    accuracy = metrics[0]\n",
    "    errors = metrics[1]\n",
    "    actual_values = metrics[2]\n",
    "    predicted_values = metrics[3]\n",
    "\n",
    "\n",
    "    lower, upper=confidence_intervals(accuracy, len(testY[0]), .95)\n",
    "    print(\"Test accuracy for best dev model: %.3f, 95%% CIs: [%.3f %.3f]\\n\" % (accuracy, lower, upper))\n",
    "    return pd.DataFrame({'Actual' : actual_values, 'Predicted' : predicted_values, 'Abs Error' : errors})\n",
    "\n",
    "preds = run(trainingFile, devFile, testFile, ordinal_values)"
   ]
  },
  {
   "cell_type": "markdown",
   "metadata": {
    "tags": []
   },
   "source": [
    "## Evaluating Model Performance <a class=\"anchor\" id=\"evaluating-model-performance\"></a>"
   ]
  },
  {
   "cell_type": "markdown",
   "metadata": {
    "cell_id": "d8efea68-4481-4003-8e44-35b90b87b68f",
    "deepnote_cell_type": "text-cell-p",
    "formattedRanges": []
   },
   "source": [
    "Some features that we didn't consider in our guidelines, that we might now rethink, became evident during our modeling process. For one, the presence of large quantities of numbers played a significant role in our model. This is likely due to many clickbait titles using large sums of money or high test scores or significant time crunches to attract viewers attention. The latter also held an impact in our model, as titles with certain quantities of time, such as \"year\", \"month\", \"week\", etc. Some of the features that we expected to positively contribute to the accuracy include the proportion of capital letters in the title, as well as the use of repeated exclamation points and question marks. However, interestingly, adding a Boolean feature for whether or not the proportion of capital letters in a given text was above a certain threshold was more impactful than the raw proportion itself. Perhaps there was a disconnect between our general understanding and perception of clickbait YouTube video titles and our testing dataset. "
   ]
  },
  {
   "cell_type": "markdown",
   "metadata": {
    "cell_id": "409d0181-3838-427a-9945-490b051a5423",
    "deepnote_cell_type": "text-cell-p",
    "formattedRanges": [
     {
      "fromCodePoint": 11,
      "marks": {
       "bold": true
      },
      "toCodePoint": 19,
      "type": "marks"
     }
    ]
   },
   "source": [
    "As seen in Figure 1, the bar plot below, the level of balance in our dataset is not necessarily ideal. We see a trend of decreasing frequencies as our labels increase, implying that clickbait videos are disproportionately represented. We recognized that this distribution of our data could have been hurting our feature selection; while we were primarily brainstorming features that would indicate clickbait videos, perhaps, we should have been brainstorming features that indicate legitimacy in YouTube videos. Some features that could particularly identify legitimate YouTube video titles could include the usage of proper capitalization or words that imply educational content. Furthermore, having 5 different levels to estimate Clickbait could have contributed more harm than help. Improving accuracy was a tricky process, as even being off by 1 label level would lower accuracy significantly. If further analysis is continued, we would experiment with lower granularity of labels to identify if our features are not insightful or if 5 labels was too many to reach a more significant accuracy. "
   ]
  },
  {
   "cell_type": "code",
   "execution_count": 10,
   "metadata": {
    "cell_id": "3986298c1f4244cfb17e9d9221b96d1b",
    "deepnote_cell_type": "code",
    "deepnote_to_be_reexecuted": false,
    "execution_millis": 281,
    "execution_start": 1682708217709,
    "source_hash": "16a4c4e2",
    "tags": []
   },
   "outputs": [
    {
     "data": {
      "image/png": "[encoded data removed]",
      "text/plain": [
       "<Figure size 640x480 with 1 Axes>"
      ]
     },
     "metadata": {},
     "output_type": "display_data"
    }
   ],
   "source": [
    "adjudicated = pd.read_csv('adjudicated.csv')\n",
    "adjudicated['label'].value_counts().plot(kind='barh')\n",
    "plt.title('Figure 1: Distribution of Labels in Full Dataset')\n",
    "plt.ylabel('Label')\n",
    "plt.xlabel('Counts');"
   ]
  },
  {
   "cell_type": "markdown",
   "metadata": {
    "cell_id": "93b56bf6-d1a2-4fcd-b517-7f1430f278cc",
    "deepnote_cell_type": "text-cell-p",
    "formattedRanges": [
     {
      "fromCodePoint": 1099,
      "marks": {
       "bold": true
      },
      "toCodePoint": 1107,
      "type": "marks"
     }
    ]
   },
   "source": [
    "To further understand the error of our model, we decided to observe the Mean Absolute Error and Median Absolute Error. Again, due to the higher granularity of our labels, as opposed to a binary scale, we made the conclusion that accuracy may not be an incredibly insightful metric. As we suspected, the Mean Absolute Error and Median Absolute Error affirmed that our struggle with improving accuracy was not as big of an issue as we thought. Respectively, we calculated a Mean Absolute Error and Median Absolute Error of 0.59 and 0. The Median Absolute Error can be explained due to more than half of our predictions matching their actual respective labels. However, the Mean Absolute Value proved that the direction of our predictions was promising. On average, our predictions were often off by at most 1 label, with 90% of predictions landing within 1 value of the actual label. If we were to refine our model analysis in the future, we would want to work towards first reducing the Mean Absolute Error to get our predictions as close to their adjudicated label, not necessarily exactly correct. Figure 2, below, extends this understanding visually, as the Distribution of Absolute Errors is notably right-skewed. We rarely have an error as significant as 3 or 4 magnitude, but, rather, we are very often just off by 1 level of clickbait that we assigned. "
   ]
  },
  {
   "cell_type": "code",
   "execution_count": 11,
   "metadata": {
    "cell_id": "e670d44c0576446c994df67c176f910f",
    "deepnote_cell_type": "code",
    "deepnote_to_be_reexecuted": false,
    "execution_millis": 3,
    "execution_start": 1682708217992,
    "source_hash": "c19124f5",
    "tags": []
   },
   "outputs": [
    {
     "name": "stdout",
     "output_type": "stream",
     "text": [
      "A proportion of 0.9 of our predictions were within 1 label of the actual value\n"
     ]
    }
   ],
   "source": [
    "prop_error_under_1 = preds[preds['Abs Error'] <= 1].shape[0] / preds.shape[0]\n",
    "print(\"A proportion of \" + str(prop_error_under_1) + \" of our predictions were within 1 label of the actual value\")"
   ]
  },
  {
   "cell_type": "code",
   "execution_count": 12,
   "metadata": {
    "cell_id": "210fc45d85494701aec6b9abd8688802",
    "deepnote_cell_type": "code",
    "deepnote_to_be_reexecuted": false,
    "execution_millis": 207,
    "execution_start": 1682708218027,
    "source_hash": "85366f1e",
    "tags": []
   },
   "outputs": [
    {
     "data": {
      "image/png": "[encoded data removed]",
      "text/plain": [
       "<Figure size 640x480 with 1 Axes>"
      ]
     },
     "metadata": {},
     "output_type": "display_data"
    }
   ],
   "source": [
    "preds['Abs Error'].value_counts().plot(kind='barh')\n",
    "plt.title('Figure 2: Distribution of Absolute Error in Testing Set')\n",
    "plt.ylabel('Absolute Error')\n",
    "plt.xlabel('Counts');"
   ]
  },
  {
   "cell_type": "code",
   "execution_count": 13,
   "metadata": {
    "cell_id": "7eb5b698444249029a5d4fab80bf296e",
    "deepnote_cell_type": "code",
    "deepnote_to_be_reexecuted": false,
    "execution_millis": 239,
    "execution_start": 1682708218273,
    "source_hash": "25b2b056",
    "tags": []
   },
   "outputs": [
    {
     "name": "stderr",
     "output_type": "stream",
     "text": [
      "/Users/MarlonFu/opt/anaconda3/envs/clickbait/lib/python3.11/site-packages/sklearn/utils/validation.py:605: FutureWarning: is_sparse is deprecated and will be removed in a future version. Check `isinstance(dtype, pd.SparseDtype)` instead.\n",
      "  if is_sparse(pd_dtype):\n",
      "/Users/MarlonFu/opt/anaconda3/envs/clickbait/lib/python3.11/site-packages/sklearn/utils/validation.py:614: FutureWarning: is_sparse is deprecated and will be removed in a future version. Check `isinstance(dtype, pd.SparseDtype)` instead.\n",
      "  if is_sparse(pd_dtype) or not is_extension_array_dtype(pd_dtype):\n",
      "/Users/MarlonFu/opt/anaconda3/envs/clickbait/lib/python3.11/site-packages/sklearn/utils/validation.py:605: FutureWarning: is_sparse is deprecated and will be removed in a future version. Check `isinstance(dtype, pd.SparseDtype)` instead.\n",
      "  if is_sparse(pd_dtype):\n",
      "/Users/MarlonFu/opt/anaconda3/envs/clickbait/lib/python3.11/site-packages/sklearn/utils/validation.py:614: FutureWarning: is_sparse is deprecated and will be removed in a future version. Check `isinstance(dtype, pd.SparseDtype)` instead.\n",
      "  if is_sparse(pd_dtype) or not is_extension_array_dtype(pd_dtype):\n",
      "/Users/MarlonFu/opt/anaconda3/envs/clickbait/lib/python3.11/site-packages/sklearn/utils/validation.py:605: FutureWarning: is_sparse is deprecated and will be removed in a future version. Check `isinstance(dtype, pd.SparseDtype)` instead.\n",
      "  if is_sparse(pd_dtype):\n",
      "/Users/MarlonFu/opt/anaconda3/envs/clickbait/lib/python3.11/site-packages/sklearn/utils/validation.py:614: FutureWarning: is_sparse is deprecated and will be removed in a future version. Check `isinstance(dtype, pd.SparseDtype)` instead.\n",
      "  if is_sparse(pd_dtype) or not is_extension_array_dtype(pd_dtype):\n",
      "/Users/MarlonFu/opt/anaconda3/envs/clickbait/lib/python3.11/site-packages/sklearn/utils/validation.py:605: FutureWarning: is_sparse is deprecated and will be removed in a future version. Check `isinstance(dtype, pd.SparseDtype)` instead.\n",
      "  if is_sparse(pd_dtype):\n",
      "/Users/MarlonFu/opt/anaconda3/envs/clickbait/lib/python3.11/site-packages/sklearn/utils/validation.py:614: FutureWarning: is_sparse is deprecated and will be removed in a future version. Check `isinstance(dtype, pd.SparseDtype)` instead.\n",
      "  if is_sparse(pd_dtype) or not is_extension_array_dtype(pd_dtype):\n",
      "/Users/MarlonFu/opt/anaconda3/envs/clickbait/lib/python3.11/site-packages/sklearn/utils/validation.py:605: FutureWarning: is_sparse is deprecated and will be removed in a future version. Check `isinstance(dtype, pd.SparseDtype)` instead.\n",
      "  if is_sparse(pd_dtype):\n",
      "/Users/MarlonFu/opt/anaconda3/envs/clickbait/lib/python3.11/site-packages/sklearn/utils/validation.py:614: FutureWarning: is_sparse is deprecated and will be removed in a future version. Check `isinstance(dtype, pd.SparseDtype)` instead.\n",
      "  if is_sparse(pd_dtype) or not is_extension_array_dtype(pd_dtype):\n",
      "/Users/MarlonFu/opt/anaconda3/envs/clickbait/lib/python3.11/site-packages/sklearn/utils/validation.py:605: FutureWarning: is_sparse is deprecated and will be removed in a future version. Check `isinstance(dtype, pd.SparseDtype)` instead.\n",
      "  if is_sparse(pd_dtype):\n",
      "/Users/MarlonFu/opt/anaconda3/envs/clickbait/lib/python3.11/site-packages/sklearn/utils/validation.py:614: FutureWarning: is_sparse is deprecated and will be removed in a future version. Check `isinstance(dtype, pd.SparseDtype)` instead.\n",
      "  if is_sparse(pd_dtype) or not is_extension_array_dtype(pd_dtype):\n"
     ]
    },
    {
     "data": {
      "image/png": "[encoded data removed]",
      "text/plain": [
       "<Figure size 640x480 with 2 Axes>"
      ]
     },
     "metadata": {},
     "output_type": "display_data"
    }
   ],
   "source": [
    "get_confusion_matrix(preds['Actual'], preds['Predicted'])"
   ]
  },
  {
   "cell_type": "markdown",
   "metadata": {
    "cell_id": "940d3ecb2c01402d897d60b10e0d676d",
    "deepnote_cell_type": "text-cell-p",
    "formattedRanges": [
     {
      "fromCodePoint": 9,
      "marks": {
       "bold": true
      },
      "toCodePoint": 17,
      "type": "marks"
     }
    ]
   },
   "source": [
    "Finally, Figure 3, a Confusion Matrix of our predicted and true labels, highlights how the relatively poor accuracy of our model is more attributed to our guidelines and granularity of labels, rather than our regression features. As we brainstormed, our features did do an adequate job of directing our decisions towards significant clickbait or not. This is proven by the higher values on the diagonal of the matrix. In contrast, the lower values that are not near the diagonal of the matrix prove that we did not often observe significant disparities between the true clickbait label and the predicted. "
   ]
  },
  {
   "cell_type": "code",
   "execution_count": null,
   "metadata": {},
   "outputs": [],
   "source": []
  }
 ],
 "metadata": {
  "deepnote": {},
  "deepnote_execution_queue": [],
  "deepnote_notebook_id": "d060c920f0f440beb3a52d818dc2c1d9",
  "kernelspec": {
   "display_name": "Python 3 (ipykernel)",
   "language": "python",
   "name": "python3"
  },
  "language_info": {
   "codemirror_mode": {
    "name": "ipython",
    "version": 3
   },
   "file_extension": ".py",
   "mimetype": "text/x-python",
   "name": "python",
   "nbconvert_exporter": "python",
   "pygments_lexer": "ipython3",
   "version": "3.11.5"
  }
 },
 "nbformat": 4,
 "nbformat_minor": 4
}
